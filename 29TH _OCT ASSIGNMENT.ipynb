{
 "cells": [
  {
   "cell_type": "raw",
   "id": "8da68474-2e21-4180-985e-8a473641366c",
   "metadata": {},
   "source": [
    "1. Given an array, check if it contains any duplicates or not.\n",
    "arr = [1, 2, 4, 2, 5, 9]\n",
    "Output = True"
   ]
  },
  {
   "cell_type": "code",
   "execution_count": 17,
   "id": "64cf0880-1fdf-4d04-9cb8-2460222f150a",
   "metadata": {},
   "outputs": [
    {
     "name": "stdout",
     "output_type": "stream",
     "text": [
      "True\n"
     ]
    }
   ],
   "source": [
    "arr = [1, 2, 4, 2, 5, 9]\n",
    "\n",
    "for i in range(len(arr)):\n",
    "    if arr[i] in arr[i+1::]:\n",
    "        print (True)"
   ]
  },
  {
   "cell_type": "raw",
   "id": "63c4e933-e788-4e09-aa6b-6cf777ce8d93",
   "metadata": {},
   "source": [
    "2. Given an array and an integer k, rotate the array to the right by k steps.\n",
    "arr = [1, 2, 3, 4, 5, 6, 7] k = 3\n",
    "Output = [5, 6, 7, 1, 2, 3, 4]"
   ]
  },
  {
   "cell_type": "code",
   "execution_count": 21,
   "id": "ad020e72-00a5-4024-9591-13085a769630",
   "metadata": {},
   "outputs": [
    {
     "name": "stdout",
     "output_type": "stream",
     "text": [
      "[5, 6, 7, 1, 2, 3, 4]\n"
     ]
    }
   ],
   "source": [
    "arr = [1, 2, 3, 4, 5, 6, 7]\n",
    "k = 3\n",
    "output=[]\n",
    "for i in range(len(arr)):\n",
    "    output.append(arr[i-k])\n",
    "print(output)"
   ]
  },
  {
   "cell_type": "raw",
   "id": "123bafb4-cf73-4485-a295-2da3ba7be94f",
   "metadata": {},
   "source": [
    "3. Reverse the given array in-place, means without using any extra data structure.\n",
    "arr = [2, 4, 5, 7, 9, 12]\n",
    "Output = [12, 9, 7, 5, 4, 2]"
   ]
  },
  {
   "cell_type": "code",
   "execution_count": 23,
   "id": "0bf52aeb-eda8-44fb-a893-36d386f34156",
   "metadata": {},
   "outputs": [
    {
     "data": {
      "text/plain": [
       "[12, 9, 7, 5, 4, 2]"
      ]
     },
     "execution_count": 23,
     "metadata": {},
     "output_type": "execute_result"
    }
   ],
   "source": [
    "arr = [2, 4, 5, 7, 9, 12]\n",
    "\n",
    "arr[::-1]"
   ]
  },
  {
   "cell_type": "raw",
   "id": "f2f0eeea-be85-43b2-adb3-5c6cfb6890bf",
   "metadata": {},
   "source": [
    "4. Given an array of integers, find the maximum element in an array\n",
    "arr = [10, 5, 20, 8, 15]\n",
    "Output = 20"
   ]
  },
  {
   "cell_type": "code",
   "execution_count": 42,
   "id": "41e58b3a-20a8-4db8-95e4-f4b39c596224",
   "metadata": {},
   "outputs": [
    {
     "name": "stdout",
     "output_type": "stream",
     "text": [
      "20\n"
     ]
    }
   ],
   "source": [
    "arr = [10, 5, 20, 8, 15]\n",
    "max_num=arr[0]\n",
    "\n",
    "for i in arr:\n",
    "    if i>max_num:\n",
    "        max_num=i\n",
    "        print(max_num)"
   ]
  },
  {
   "cell_type": "raw",
   "id": "88e52104-45da-4545-a629-19f5991b368d",
   "metadata": {},
   "source": [
    "5. Given a sorted array, remove the duplicate element without using any extra data structure.\n",
    "arr = [1, 1, 2, 2, 2, 3, 3, 4, 4, 4, 5, 5]\n",
    "Output = [1, 2, 3, 4, 5]"
   ]
  },
  {
   "cell_type": "code",
   "execution_count": 85,
   "id": "99dccb5c-b59f-417d-927b-944ec91aa647",
   "metadata": {},
   "outputs": [
    {
     "name": "stdout",
     "output_type": "stream",
     "text": [
      "[1, 2, 3, 4, 5]\n"
     ]
    }
   ],
   "source": [
    "arr = [1, 1, 2, 2, 2, 3, 3, 4, 4, 4, 5, 5]\n",
    "index=1\n",
    "\n",
    "for i in range (1,len(arr)):\n",
    "    if arr[i-1]!=arr[i]:\n",
    "        arr[index]=arr[i]\n",
    "        index=index+1\n",
    "print(arr[:index])"
   ]
  },
  {
   "cell_type": "code",
   "execution_count": null,
   "id": "b2a74957-15c4-400d-bdef-e9bb4991c55f",
   "metadata": {},
   "outputs": [],
   "source": []
  }
 ],
 "metadata": {
  "kernelspec": {
   "display_name": "Python 3 (ipykernel)",
   "language": "python",
   "name": "python3"
  },
  "language_info": {
   "codemirror_mode": {
    "name": "ipython",
    "version": 3
   },
   "file_extension": ".py",
   "mimetype": "text/x-python",
   "name": "python",
   "nbconvert_exporter": "python",
   "pygments_lexer": "ipython3",
   "version": "3.10.8"
  }
 },
 "nbformat": 4,
 "nbformat_minor": 5
}
